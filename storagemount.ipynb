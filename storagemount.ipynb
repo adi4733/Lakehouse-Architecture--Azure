{
 "cells": [
  {
   "cell_type": "markdown",
   "metadata": {},
   "source": [
    "### Mounting Bronze layer"
   ]
  },
  {
   "cell_type": "code",
   "execution_count": 0,
   "metadata": {
    "application/vnd.databricks.v1+cell": {
     "cellMetadata": {
      "byteLimit": 2048000,
      "rowLimit": 10000
     },
     "inputWidgets": {},
     "nuid": "d2222881-616a-4e87-babe-45d5faf7c072",
     "showTitle": false,
     "tableResultSettingsMap": {},
     "title": ""
    }
   },
   "outputs": [
    {
     "name": "stdout",
     "output_type": "stream",
     "text": [
      "mount succeeded!\n"
     ]
    }
   ],
   "source": [
    "storageAccountName = \"aradlsgen2\"\n",
    "storageAccountAccessKey = \"\"\n",
    "sasToken = \"Enter your SAS token\"\n",
    "blobContainerName = \"bronze\"\n",
    "mountPoint = \"/mnt/bronze/\"\n",
    "if not any(mount.mountPoint == mountPoint for mount in dbutils.fs.mounts()):\n",
    "  try:\n",
    "    dbutils.fs.mount(\n",
    "      source = \"wasbs://{}@{}.blob.core.windows.net\".format(blobContainerName, storageAccountName),\n",
    "      mount_point = mountPoint,\n",
    "      #extra_configs = {'fs.azure.account.key.' + storageAccountName + '.dfs.core.windows.net': storageAccountAccessKey}\n",
    "      extra_configs = {'fs.azure.sas.' + blobContainerName + '.' + storageAccountName + '.blob.core.windows.net': sasToken}\n",
    "    )\n",
    "    print(\"mount succeeded!\")\n",
    "  except Exception as e:\n",
    "    print(\"mount exception\", e)"
   ]
  },
  {
   "cell_type": "markdown",
   "metadata": {},
   "source": [
    "### Mounting Silver layer"
   ]
  },
  {
   "cell_type": "code",
   "execution_count": 0,
   "metadata": {
    "application/vnd.databricks.v1+cell": {
     "cellMetadata": {
      "byteLimit": 2048000,
      "rowLimit": 10000
     },
     "inputWidgets": {},
     "nuid": "3719fb68-e5b5-4bf7-917f-20e6ea086ece",
     "showTitle": false,
     "tableResultSettingsMap": {},
     "title": ""
    }
   },
   "outputs": [
    {
     "name": "stdout",
     "output_type": "stream",
     "text": [
      "mount succeeded!\n"
     ]
    }
   ],
   "source": [
    "storageAccountName = \"aradlsgen2\"\n",
    "storageAccountAccessKey = \"\"\n",
    "sasToken = \"Sas token\"\n",
    "blobContainerName = \"silver\"\n",
    "mountPoint = \"/mnt/silver/\"\n",
    "if not any(mount.mountPoint == mountPoint for mount in dbutils.fs.mounts()):\n",
    "  try:\n",
    "    dbutils.fs.mount(\n",
    "      source = \"wasbs://{}@{}.blob.core.windows.net\".format(blobContainerName, storageAccountName),\n",
    "      mount_point = mountPoint,\n",
    "      #extra_configs = {'fs.azure.account.key.' + storageAccountName + '.dfs.core.windows.net': storageAccountAccessKey}\n",
    "      extra_configs = {'fs.azure.sas.' + blobContainerName + '.' + storageAccountName + '.blob.core.windows.net': sasToken}\n",
    "    )\n",
    "    print(\"mount succeeded!\")\n",
    "  except Exception as e:\n",
    "    print(\"mount exception\", e)"
   ]
  },
  {
   "cell_type": "markdown",
   "metadata": {},
   "source": [
    "### Mounting Gold layer"
   ]
  },
  {
   "cell_type": "code",
   "execution_count": 0,
   "metadata": {
    "application/vnd.databricks.v1+cell": {
     "cellMetadata": {
      "byteLimit": 2048000,
      "rowLimit": 10000
     },
     "inputWidgets": {},
     "nuid": "2489de01-b0ef-4c02-b32a-a5443981c6e8",
     "showTitle": false,
     "tableResultSettingsMap": {},
     "title": ""
    }
   },
   "outputs": [
    {
     "name": "stdout",
     "output_type": "stream",
     "text": [
      "mount succeeded!\n"
     ]
    }
   ],
   "source": [
    "storageAccountName = \"aradlsgen2\"\n",
    "storageAccountAccessKey = \"\"\n",
    "sasToken = \"Enter your SAS token\"\n",
    "blobContainerName = \"gold\"\n",
    "mountPoint = \"/mnt/gold/\"\n",
    "if not any(mount.mountPoint == mountPoint for mount in dbutils.fs.mounts()):\n",
    "  try:\n",
    "    dbutils.fs.mount(\n",
    "      source = \"wasbs://{}@{}.blob.core.windows.net\".format(blobContainerName, storageAccountName),\n",
    "      mount_point = mountPoint,\n",
    "      #extra_configs = {'fs.azure.account.key.' + storageAccountName + '.dfs.core.windows.net': storageAccountAccessKey}\n",
    "      extra_configs = {'fs.azure.sas.' + blobContainerName + '.' + storageAccountName + '.blob.core.windows.net': sasToken}\n",
    "    )\n",
    "    print(\"mount succeeded!\")\n",
    "  except Exception as e:\n",
    "    print(\"mount exception\", e)"
   ]
  },
  {
   "cell_type": "markdown",
   "metadata": {},
   "source": [
    "### Use the below code to Mount all three layer in one go"
   ]
  },
  {
   "cell_type": "code",
   "execution_count": null,
   "metadata": {},
   "outputs": [],
   "source": [
    "# Storage account configurations\n",
    "storageAccountName = \"Enter_your_storage_account_name\"\n",
    "storageAccountAccessKey = \"your_storage_account_access_key\"\n",
    "sasToken = \"Enter_your_SAS_token\"\n",
    "\n",
    "# List of layers to mount\n",
    "layers = [\n",
    "    {\"containerName\": \"gold\", \"mountPoint\": \"/mnt/gold/\"},\n",
    "    {\"containerName\": \"silver\", \"mountPoint\": \"/mnt/silver/\"},\n",
    "    {\"containerName\": \"bronze\", \"mountPoint\": \"/mnt/bronze/\"}\n",
    "]\n",
    "\n",
    "# Mount function\n",
    "def mount_adls_layer(containerName, mountPoint):\n",
    "    if not any(mount.mountPoint == mountPoint for mount in dbutils.fs.mounts()):\n",
    "        try:\n",
    "            dbutils.fs.mount(\n",
    "                source=\"wasbs://{}@{}.blob.core.windows.net\".format(containerName, storageAccountName),\n",
    "                mount_point=mountPoint,\n",
    "                extra_configs={\n",
    "                    'fs.azure.sas.' + containerName + '.' + storageAccountName + '.blob.core.windows.net': sasToken\n",
    "                }\n",
    "            )\n",
    "            print(f\"Mount succeeded for {containerName} at {mountPoint}\")\n",
    "        except Exception as e:\n",
    "            print(f\"Mount failed for {containerName} at {mountPoint}. Exception: {e}\")\n",
    "    else:\n",
    "        print(f\"{mountPoint} is already mounted.\")\n",
    "\n",
    "# Iterate through layers and mount each\n",
    "for layer in layers:\n",
    "    mount_adls_layer(layer[\"containerName\"], layer[\"mountPoint\"])\n"
   ]
  },
  {
   "cell_type": "code",
   "execution_count": 0,
   "metadata": {
    "application/vnd.databricks.v1+cell": {
     "cellMetadata": {},
     "inputWidgets": {},
     "nuid": "9b7f7a69-7ec9-4f00-a567-7cdf559f1215",
     "showTitle": false,
     "tableResultSettingsMap": {},
     "title": ""
    }
   },
   "outputs": [],
   "source": []
  }
 ],
 "metadata": {
  "application/vnd.databricks.v1+notebook": {
   "dashboards": [],
   "environmentMetadata": {
    "base_environment": "",
    "client": "1"
   },
   "language": "python",
   "notebookMetadata": {
    "pythonIndentUnit": 4
   },
   "notebookName": "storagemount",
   "widgets": {}
  },
  "language_info": {
   "name": "python"
  }
 },
 "nbformat": 4,
 "nbformat_minor": 0
}
