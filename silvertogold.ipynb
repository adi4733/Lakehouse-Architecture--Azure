{
 "cells": [
  {
   "cell_type": "code",
   "execution_count": 0,
   "metadata": {
    "application/vnd.databricks.v1+cell": {
     "cellMetadata": {
      "byteLimit": 2048000,
      "rowLimit": 10000
     },
     "inputWidgets": {},
     "nuid": "f621a429-d67f-46c6-ad72-922d78e66a9a",
     "showTitle": false,
     "tableResultSettingsMap": {},
     "title": ""
    }
   },
   "outputs": [
    {
     "name": "stdout",
     "output_type": "stream",
     "text": [
      "['CountryRegionCurrency', 'CreditCard', 'Currency', 'CurrencyRate', 'Customer', 'PersonCreditCard', 'SalesOrderDetail', 'SalesOrderHeader', 'SalesOrderHeaderSalesReason', 'SalesPerson', 'SalesPersonQuotaHistory', 'SalesReason', 'SalesTaxRate', 'SalesTerritory', 'SalesTerritoryHistory', 'ShoppingCartItem', 'SpecialOffer', 'SpecialOfferProduct', 'Store', 'CountryRegionCurrency', 'CreditCard', 'Currency', 'CurrencyRate', 'Customer', 'PersonCreditCard', 'SalesOrderDetail', 'SalesOrderHeader', 'SalesOrderHeaderSalesReason', 'SalesPerson', 'SalesPersonQuotaHistory', 'SalesReason', 'SalesTaxRate', 'SalesTerritory', 'SalesTerritoryHistory', 'ShoppingCartItem', 'SpecialOffer', 'SpecialOfferProduct', 'Store', 'CountryRegionCurrency', 'CreditCard', 'Currency', 'CurrencyRate', 'Customer', 'PersonCreditCard', 'SalesOrderDetail', 'SalesOrderHeader', 'SalesOrderHeaderSalesReason', 'SalesPerson', 'SalesPersonQuotaHistory', 'SalesReason', 'SalesTaxRate', 'SalesTerritory', 'SalesTerritoryHistory', 'ShoppingCartItem', 'SpecialOffer', 'SpecialOfferProduct', 'Store']\n"
     ]
    }
   ],
   "source": [
    "table_name = []\n",
    "\n",
    "for i in dbutils.fs.ls('mnt/silver/Sales'):     # List all directories/files in the specified Silver layer Sales path\n",
    "    table_name.append(i.name.split('/')[0])     # Extract and append the table name from the directory structure"
   ]
  },
  {
   "cell_type": "code",
   "execution_count": 0,
   "metadata": {
    "application/vnd.databricks.v1+cell": {
     "cellMetadata": {
      "byteLimit": 2048000,
      "rowLimit": 10000
     },
     "inputWidgets": {},
     "nuid": "f0f047a9-c1b0-44c1-b2a0-c80369eff8fb",
     "showTitle": false,
     "tableResultSettingsMap": {},
     "title": ""
    }
   },
   "outputs": [
    {
     "name": "stdout",
     "output_type": "stream",
     "text": [
      "/mnt/silver/Sales/CountryRegionCurrency\n",
      "/mnt/silver/Sales/CreditCard\n",
      "/mnt/silver/Sales/Currency\n",
      "/mnt/silver/Sales/CurrencyRate\n",
      "/mnt/silver/Sales/Customer\n",
      "/mnt/silver/Sales/PersonCreditCard\n",
      "/mnt/silver/Sales/SalesOrderDetail\n",
      "/mnt/silver/Sales/SalesOrderHeader\n",
      "/mnt/silver/Sales/SalesOrderHeaderSalesReason\n",
      "/mnt/silver/Sales/SalesPerson\n",
      "/mnt/silver/Sales/SalesPersonQuotaHistory\n",
      "/mnt/silver/Sales/SalesReason\n",
      "/mnt/silver/Sales/SalesTaxRate\n",
      "/mnt/silver/Sales/SalesTerritory\n",
      "/mnt/silver/Sales/SalesTerritoryHistory\n",
      "/mnt/silver/Sales/ShoppingCartItem\n",
      "/mnt/silver/Sales/SpecialOffer\n",
      "/mnt/silver/Sales/SpecialOfferProduct\n",
      "/mnt/silver/Sales/Store\n"
     ]
    }
   ],
   "source": [
    "for i in table_name:                                  # Iterate over each table name retrieved\n",
    "    input_path = '/mnt/silver/Sales/'+i\n",
    "    print(input_path)\n",
    "    df = spark.read.format('delta').load(input_path)  # Read the table data in Delta format into a Spark DataFrame\n",
    "\n",
    "    column_name = df.columns\n",
    "\n",
    "    for old_column_name in column_name:                # Convert column names from camelCase/PascalCase to snake_case\n",
    "        # Add an underscore before uppercase letters unless the previous letter is also uppercase\n",
    "        new_column_name = \"\".join([\"_\"+char if char.isupper() and not old_column_name[i-1].isupper() else char for i, char in enumerate(old_column_name)]).lstrip(\"_\")\n",
    "\n",
    "        df = df.withColumnRenamed(old_column_name, new_column_name)\n",
    "    output_path = '/mnt/gold/Sales/'+i+'/'\n",
    "    # Write the transformed DataFrame to the Gold layer in Delta format, overwriting existing data\n",
    "    df.write.format('delta').mode('overwrite').save(output_path)"
   ]
  },
  {
   "cell_type": "code",
   "execution_count": 0,
   "metadata": {
    "application/vnd.databricks.v1+cell": {
     "cellMetadata": {},
     "inputWidgets": {},
     "nuid": "05bedb5d-74a4-4dc5-a99d-f76bed1a3fab",
     "showTitle": false,
     "tableResultSettingsMap": {},
     "title": ""
    }
   },
   "outputs": [],
   "source": [
    "\n",
    "\n",
    "\n",
    "    \n",
    "    # Log success message for the table\n",
    "    print(f\"Successfully processed and saved table: {i} to path: {output_path}\")\n"
   ]
  }
 ],
 "metadata": {
  "application/vnd.databricks.v1+notebook": {
   "dashboards": [],
   "environmentMetadata": {
    "base_environment": "",
    "client": "1"
   },
   "language": "python",
   "notebookMetadata": {
    "pythonIndentUnit": 4
   },
   "notebookName": "silvertogold",
   "widgets": {}
  },
  "language_info": {
   "name": "python"
  }
 },
 "nbformat": 4,
 "nbformat_minor": 0
}
